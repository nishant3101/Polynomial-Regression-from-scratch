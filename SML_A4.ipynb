{
  "nbformat": 4,
  "nbformat_minor": 0,
  "metadata": {
    "colab": {
      "name": "SML_A4.ipynb",
      "provenance": [],
      "collapsed_sections": []
    },
    "kernelspec": {
      "name": "python3",
      "display_name": "Python 3"
    }
  },
  "cells": [
    {
      "cell_type": "markdown",
      "metadata": {
        "id": "HCouNSR-XvRI",
        "colab_type": "text"
      },
      "source": [
        "**SML Assignment-4**"
      ]
    },
    {
      "cell_type": "code",
      "metadata": {
        "id": "A41Ju_fhlPks",
        "colab_type": "code",
        "colab": {}
      },
      "source": [
        "from sklearn.datasets import load_boston\n",
        "boston_dataset = load_boston()\n",
        "import pandas as pd\n",
        "import numpy as np\n",
        "from matplotlib import pyplot as plt\n",
        "import math\n",
        "import statistics"
      ],
      "execution_count": 0,
      "outputs": []
    },
    {
      "cell_type": "markdown",
      "metadata": {
        "id": "b_89tBuDNOoX",
        "colab_type": "text"
      },
      "source": [
        "**LOADING DATA**"
      ]
    },
    {
      "cell_type": "code",
      "metadata": {
        "id": "0EUvFyZQl6Yq",
        "colab_type": "code",
        "outputId": "7875b087-ecae-4c68-bdef-a865693e8983",
        "colab": {
          "base_uri": "https://localhost:8080/",
          "height": 527
        }
      },
      "source": [
        "boston = pd.DataFrame(boston_dataset.data, columns=boston_dataset.feature_names)\n",
        "targetboston= pd.DataFrame(boston_dataset.target)\n",
        "print(\"Features Matrix is:\")\n",
        "print(boston)\n",
        "print(\"Label vector is MEDV:\")\n",
        "print(targetboston)"
      ],
      "execution_count": 0,
      "outputs": [
        {
          "output_type": "stream",
          "text": [
            "Features Matrix is:\n",
            "        CRIM    ZN  INDUS  CHAS    NOX  ...  RAD    TAX  PTRATIO       B  LSTAT\n",
            "0    0.00632  18.0   2.31   0.0  0.538  ...  1.0  296.0     15.3  396.90   4.98\n",
            "1    0.02731   0.0   7.07   0.0  0.469  ...  2.0  242.0     17.8  396.90   9.14\n",
            "2    0.02729   0.0   7.07   0.0  0.469  ...  2.0  242.0     17.8  392.83   4.03\n",
            "3    0.03237   0.0   2.18   0.0  0.458  ...  3.0  222.0     18.7  394.63   2.94\n",
            "4    0.06905   0.0   2.18   0.0  0.458  ...  3.0  222.0     18.7  396.90   5.33\n",
            "..       ...   ...    ...   ...    ...  ...  ...    ...      ...     ...    ...\n",
            "501  0.06263   0.0  11.93   0.0  0.573  ...  1.0  273.0     21.0  391.99   9.67\n",
            "502  0.04527   0.0  11.93   0.0  0.573  ...  1.0  273.0     21.0  396.90   9.08\n",
            "503  0.06076   0.0  11.93   0.0  0.573  ...  1.0  273.0     21.0  396.90   5.64\n",
            "504  0.10959   0.0  11.93   0.0  0.573  ...  1.0  273.0     21.0  393.45   6.48\n",
            "505  0.04741   0.0  11.93   0.0  0.573  ...  1.0  273.0     21.0  396.90   7.88\n",
            "\n",
            "[506 rows x 13 columns]\n",
            "Label vector is MEDV:\n",
            "        0\n",
            "0    24.0\n",
            "1    21.6\n",
            "2    34.7\n",
            "3    33.4\n",
            "4    36.2\n",
            "..    ...\n",
            "501  22.4\n",
            "502  20.6\n",
            "503  23.9\n",
            "504  22.0\n",
            "505  11.9\n",
            "\n",
            "[506 rows x 1 columns]\n"
          ],
          "name": "stdout"
        }
      ]
    },
    {
      "cell_type": "code",
      "metadata": {
        "id": "aOANfIHVmpu9",
        "colab_type": "code",
        "colab": {}
      },
      "source": [
        "def normalequation(x1,y1):\n",
        "  #return np.matmul(np.matmul(np.linalg.inv(np.matmul(x.T,x)),x.T),y)\n",
        "  return np.matmul(np.linalg.inv(np.matmul(x1.T,x1)), np.matmul(x1.T,y1))"
      ],
      "execution_count": 0,
      "outputs": []
    },
    {
      "cell_type": "markdown",
      "metadata": {
        "id": "4iOT7EYOM4bY",
        "colab_type": "text"
      },
      "source": [
        "Generate THETA by taking X= ALL FEATURES and Y= TARGET VARIABLE(\"MEDV\")"
      ]
    },
    {
      "cell_type": "code",
      "metadata": {
        "id": "l_GG3LCQpknb",
        "colab_type": "code",
        "outputId": "71471d51-35ef-4f92-f242-ba89f6ec31cb",
        "colab": {
          "base_uri": "https://localhost:8080/",
          "height": 510
        }
      },
      "source": [
        "feat=np.ones((506,14))\n",
        "feat[:,1:14]=np.asarray(boston.iloc[:,0:13])\n",
        "label=np.asarray(targetboston)\n",
        "theta=normalequation(feat,label)\n",
        "thetadf=pd.DataFrame(theta)\n",
        "print(thetadf)\n",
        "print(pd.DataFrame(feat))\n",
        "feattrain=feat[0:403,:]\n",
        "labeltrain=label[0:404,:]\n",
        "feattest=feat[404:505,:]\n",
        "labeltest=label[404:505,:]\n"
      ],
      "execution_count": 0,
      "outputs": [
        {
          "output_type": "stream",
          "text": [
            "            0\n",
            "0   36.459488\n",
            "1   -0.108011\n",
            "2    0.046420\n",
            "3    0.020559\n",
            "4    2.686734\n",
            "5  -17.766611\n",
            "6    3.809865\n",
            "7    0.000692\n",
            "8   -1.475567\n",
            "9    0.306049\n",
            "10  -0.012335\n",
            "11  -0.952747\n",
            "12   0.009312\n",
            "13  -0.524758\n",
            "      0        1     2      3    4   ...   9      10    11      12    13\n",
            "0    1.0  0.00632  18.0   2.31  0.0  ...  1.0  296.0  15.3  396.90  4.98\n",
            "1    1.0  0.02731   0.0   7.07  0.0  ...  2.0  242.0  17.8  396.90  9.14\n",
            "2    1.0  0.02729   0.0   7.07  0.0  ...  2.0  242.0  17.8  392.83  4.03\n",
            "3    1.0  0.03237   0.0   2.18  0.0  ...  3.0  222.0  18.7  394.63  2.94\n",
            "4    1.0  0.06905   0.0   2.18  0.0  ...  3.0  222.0  18.7  396.90  5.33\n",
            "..   ...      ...   ...    ...  ...  ...  ...    ...   ...     ...   ...\n",
            "501  1.0  0.06263   0.0  11.93  0.0  ...  1.0  273.0  21.0  391.99  9.67\n",
            "502  1.0  0.04527   0.0  11.93  0.0  ...  1.0  273.0  21.0  396.90  9.08\n",
            "503  1.0  0.06076   0.0  11.93  0.0  ...  1.0  273.0  21.0  396.90  5.64\n",
            "504  1.0  0.10959   0.0  11.93  0.0  ...  1.0  273.0  21.0  393.45  6.48\n",
            "505  1.0  0.04741   0.0  11.93  0.0  ...  1.0  273.0  21.0  396.90  7.88\n",
            "\n",
            "[506 rows x 14 columns]\n"
          ],
          "name": "stdout"
        }
      ]
    },
    {
      "cell_type": "markdown",
      "metadata": {
        "id": "M4XoH34NO5oQ",
        "colab_type": "text"
      },
      "source": [
        "**Splitting the data into train and test using 80:20 split ratio**"
      ]
    },
    {
      "cell_type": "code",
      "metadata": {
        "id": "KYxIMQCYQ56t",
        "colab_type": "code",
        "colab": {}
      },
      "source": [
        "boston1=boston.copy()\n",
        "boston1['MEDV']=targetboston\n",
        "training=boston1.iloc[0:404,:]\n",
        "test=boston1.iloc[404:506,:]"
      ],
      "execution_count": 0,
      "outputs": []
    },
    {
      "cell_type": "code",
      "metadata": {
        "id": "rrSoNgoGU-dA",
        "colab_type": "code",
        "colab": {}
      },
      "source": [
        "theta=np.asarray(theta)"
      ],
      "execution_count": 0,
      "outputs": []
    },
    {
      "cell_type": "markdown",
      "metadata": {
        "id": "VK6f7MOROiYt",
        "colab_type": "text"
      },
      "source": [
        "**Linear Regression**"
      ]
    },
    {
      "cell_type": "code",
      "metadata": {
        "id": "0hsMyxXLXRCV",
        "colab_type": "code",
        "outputId": "1530d07f-8e05-442c-8227-fc4945a12fe5",
        "colab": {
          "base_uri": "https://localhost:8080/",
          "height": 51
        }
      },
      "source": [
        "def linreg(dataset,theta,label):\n",
        "  rmsemat=[]\n",
        "  for i in range(0,len(dataset)):\n",
        "    htheta=np.dot(theta.T,dataset[i])\n",
        "    rmsemat.append(htheta)\n",
        "  trainarr=np.asarray(dataset)\n",
        "  rmsemat=np.asarray(rmsemat)\n",
        "  outdf=pd.DataFrame(label)\n",
        "  ermat=pd.DataFrame(rmsemat)\n",
        "  error=outdf.subtract(ermat)\n",
        "  ersq=error**2\n",
        "  h1=math.sqrt((ersq.iloc[:,0].sum())/error.shape[0])\n",
        "  print(\"Linear Regression RMSE is:\")\n",
        "  print(h1)\n",
        "#------------------------------------------------------\n",
        "linreg(feattest,theta,labeltest)  "
      ],
      "execution_count": 0,
      "outputs": [
        {
          "output_type": "stream",
          "text": [
            "Linear Regression RMSE is:\n",
            "3.729073469663866\n"
          ],
          "name": "stdout"
        }
      ]
    },
    {
      "cell_type": "markdown",
      "metadata": {
        "id": "BtRxul3YP0jJ",
        "colab_type": "text"
      },
      "source": [
        "**Reducing Dataset to consider only LSTAT vs MEDV as instructed in the question**"
      ]
    },
    {
      "cell_type": "code",
      "metadata": {
        "id": "-ZfuaQX-lxq4",
        "colab_type": "code",
        "outputId": "122972b4-aff1-4531-cbec-3f2bf56960f0",
        "colab": {
          "base_uri": "https://localhost:8080/",
          "height": 544
        }
      },
      "source": [
        "tr2=training.iloc[:,12:14]\n",
        "tr3=test.iloc[:,12:14]\n",
        "print(\"Simplified Dataset LSTAT vs MEDV\")\n",
        "print(\"New Training Dataset:\")\n",
        "print(tr2)\n",
        "print(\"New Test Dataset:\")\n",
        "print(tr3)"
      ],
      "execution_count": 0,
      "outputs": [
        {
          "output_type": "stream",
          "text": [
            "Simplified Dataset LSTAT vs MEDV\n",
            "New Training Dataset:\n",
            "     LSTAT  MEDV\n",
            "0     4.98  24.0\n",
            "1     9.14  21.6\n",
            "2     4.03  34.7\n",
            "3     2.94  33.4\n",
            "4     5.33  36.2\n",
            "..     ...   ...\n",
            "399  29.97   6.3\n",
            "400  26.77   5.6\n",
            "401  20.32   7.2\n",
            "402  20.31  12.1\n",
            "403  19.77   8.3\n",
            "\n",
            "[404 rows x 2 columns]\n",
            "New Test Dataset:\n",
            "     LSTAT  MEDV\n",
            "404  27.38   8.5\n",
            "405  22.98   5.0\n",
            "406  23.34  11.9\n",
            "407  12.13  27.9\n",
            "408  26.40  17.2\n",
            "..     ...   ...\n",
            "501   9.67  22.4\n",
            "502   9.08  20.6\n",
            "503   5.64  23.9\n",
            "504   6.48  22.0\n",
            "505   7.88  11.9\n",
            "\n",
            "[102 rows x 2 columns]\n"
          ],
          "name": "stdout"
        }
      ]
    },
    {
      "cell_type": "markdown",
      "metadata": {
        "id": "sbdUD3NZQB-5",
        "colab_type": "text"
      },
      "source": [
        "**K-Fold Set Generator**"
      ]
    },
    {
      "cell_type": "code",
      "metadata": {
        "id": "xPji9n29PFAF",
        "colab_type": "code",
        "outputId": "cd61defc-44d9-45e6-9a6a-5516f0ca2eaf",
        "colab": {
          "base_uri": "https://localhost:8080/",
          "height": 1000
        }
      },
      "source": [
        "def splitintokframes(dataset, k): \n",
        "    listofsubframes = list()\n",
        "    framesize=math.ceil(len(dataset)/k)\n",
        "    for i in range(k):\n",
        "        listofsubframes.append(dataset[i*framesize:(i+1)*framesize])\n",
        "    return listofsubframes\n",
        "\n",
        "def kfoldgen(dataset,k):\n",
        "  folds = splitintokframes(dataset, k)\n",
        "  trainset=list()\n",
        "  valset=list()\n",
        "  for i in range(k):\n",
        "      train = folds.copy()\n",
        "      test = folds[i]\n",
        "      del train[i]\n",
        "      train = pd.concat(train, sort=False)\n",
        "      trainset.append(train)\n",
        "      valset.append(test)\n",
        "  return trainset,valset    \n",
        "#------------------------------------------------------------------------- \n",
        "trainset,valset=kfoldgen(tr2,5)   \n",
        "for i in range(5):\n",
        "    print(\"Test set is:\")\n",
        "    print(pd.DataFrame(valset[i]))\n",
        "    print(\"Train set is:\")\n",
        "    print(pd.DataFrame(trainset[i]))"
      ],
      "execution_count": 0,
      "outputs": [
        {
          "output_type": "stream",
          "text": [
            "Test set is:\n",
            "    LSTAT  MEDV\n",
            "0    4.98  24.0\n",
            "1    9.14  21.6\n",
            "2    4.03  34.7\n",
            "3    2.94  33.4\n",
            "4    5.33  36.2\n",
            "..    ...   ...\n",
            "76  11.97  20.0\n",
            "77  10.27  20.8\n",
            "78  12.34  21.2\n",
            "79   9.10  20.3\n",
            "80   5.29  28.0\n",
            "\n",
            "[81 rows x 2 columns]\n",
            "Train set is:\n",
            "     LSTAT  MEDV\n",
            "81    7.22  23.9\n",
            "82    6.72  24.8\n",
            "83    7.51  22.9\n",
            "84    9.62  23.9\n",
            "85    6.53  26.6\n",
            "..     ...   ...\n",
            "399  29.97   6.3\n",
            "400  26.77   5.6\n",
            "401  20.32   7.2\n",
            "402  20.31  12.1\n",
            "403  19.77   8.3\n",
            "\n",
            "[323 rows x 2 columns]\n",
            "Test set is:\n",
            "     LSTAT  MEDV\n",
            "81    7.22  23.9\n",
            "82    6.72  24.8\n",
            "83    7.51  22.9\n",
            "84    9.62  23.9\n",
            "85    6.53  26.6\n",
            "..     ...   ...\n",
            "157   4.59  41.3\n",
            "158   6.43  24.3\n",
            "159   7.39  23.3\n",
            "160   5.50  27.0\n",
            "161   1.73  50.0\n",
            "\n",
            "[81 rows x 2 columns]\n",
            "Train set is:\n",
            "     LSTAT  MEDV\n",
            "0     4.98  24.0\n",
            "1     9.14  21.6\n",
            "2     4.03  34.7\n",
            "3     2.94  33.4\n",
            "4     5.33  36.2\n",
            "..     ...   ...\n",
            "399  29.97   6.3\n",
            "400  26.77   5.6\n",
            "401  20.32   7.2\n",
            "402  20.31  12.1\n",
            "403  19.77   8.3\n",
            "\n",
            "[323 rows x 2 columns]\n",
            "Test set is:\n",
            "     LSTAT  MEDV\n",
            "162   1.92  50.0\n",
            "163   3.32  50.0\n",
            "164  11.64  22.7\n",
            "165   9.81  25.0\n",
            "166   3.70  50.0\n",
            "..     ...   ...\n",
            "238   6.36  23.7\n",
            "239   7.37  23.3\n",
            "240  11.38  22.0\n",
            "241  12.40  20.1\n",
            "242  11.22  22.2\n",
            "\n",
            "[81 rows x 2 columns]\n",
            "Train set is:\n",
            "     LSTAT  MEDV\n",
            "0     4.98  24.0\n",
            "1     9.14  21.6\n",
            "2     4.03  34.7\n",
            "3     2.94  33.4\n",
            "4     5.33  36.2\n",
            "..     ...   ...\n",
            "399  29.97   6.3\n",
            "400  26.77   5.6\n",
            "401  20.32   7.2\n",
            "402  20.31  12.1\n",
            "403  19.77   8.3\n",
            "\n",
            "[323 rows x 2 columns]\n",
            "Test set is:\n",
            "     LSTAT  MEDV\n",
            "243   5.19  23.7\n",
            "244  12.50  17.6\n",
            "245  18.46  18.5\n",
            "246   9.16  24.3\n",
            "247  10.15  20.5\n",
            "..     ...   ...\n",
            "319  12.73  21.0\n",
            "320   7.20  23.8\n",
            "321   6.87  23.1\n",
            "322   7.70  20.4\n",
            "323  11.74  18.5\n",
            "\n",
            "[81 rows x 2 columns]\n",
            "Train set is:\n",
            "     LSTAT  MEDV\n",
            "0     4.98  24.0\n",
            "1     9.14  21.6\n",
            "2     4.03  34.7\n",
            "3     2.94  33.4\n",
            "4     5.33  36.2\n",
            "..     ...   ...\n",
            "399  29.97   6.3\n",
            "400  26.77   5.6\n",
            "401  20.32   7.2\n",
            "402  20.31  12.1\n",
            "403  19.77   8.3\n",
            "\n",
            "[323 rows x 2 columns]\n",
            "Test set is:\n",
            "     LSTAT  MEDV\n",
            "324   6.12  25.0\n",
            "325   5.08  24.6\n",
            "326   6.15  23.0\n",
            "327  12.79  22.2\n",
            "328   9.97  19.3\n",
            "..     ...   ...\n",
            "399  29.97   6.3\n",
            "400  26.77   5.6\n",
            "401  20.32   7.2\n",
            "402  20.31  12.1\n",
            "403  19.77   8.3\n",
            "\n",
            "[80 rows x 2 columns]\n",
            "Train set is:\n",
            "     LSTAT  MEDV\n",
            "0     4.98  24.0\n",
            "1     9.14  21.6\n",
            "2     4.03  34.7\n",
            "3     2.94  33.4\n",
            "4     5.33  36.2\n",
            "..     ...   ...\n",
            "319  12.73  21.0\n",
            "320   7.20  23.8\n",
            "321   6.87  23.1\n",
            "322   7.70  20.4\n",
            "323  11.74  18.5\n",
            "\n",
            "[324 rows x 2 columns]\n"
          ],
          "name": "stdout"
        }
      ]
    },
    {
      "cell_type": "code",
      "metadata": {
        "id": "CdnPU9gWNLF0",
        "colab_type": "code",
        "outputId": "9599b5c8-40cc-4577-9d46-34a013dbd492",
        "colab": {
          "base_uri": "https://localhost:8080/",
          "height": 296
        }
      },
      "source": [
        "plt.scatter(tr3.iloc[:,0],tr3.iloc[:,1])\n",
        "plt.xlabel(\"LSTAT\")\n",
        "plt.ylabel(\"MEDV\")\n"
      ],
      "execution_count": 0,
      "outputs": [
        {
          "output_type": "execute_result",
          "data": {
            "text/plain": [
              "Text(0, 0.5, 'MEDV')"
            ]
          },
          "metadata": {
            "tags": []
          },
          "execution_count": 11
        },
        {
          "output_type": "display_data",
          "data": {
            "image/png": "[encoded data removed]",
            "text/plain": [
              "<Figure size 432x288 with 1 Axes>"
            ]
          },
          "metadata": {
            "tags": []
          }
        }
      ]
    },
    {
      "cell_type": "markdown",
      "metadata": {
        "id": "XSWedLTfUPGv",
        "colab_type": "text"
      },
      "source": [
        "**Polynomial Regression Function**"
      ]
    },
    {
      "cell_type": "code",
      "metadata": {
        "id": "avZu0X4Wxrn-",
        "colab_type": "code",
        "colab": {}
      },
      "source": [
        "def polyreg(dataset,degree):\n",
        "  x=np.asarray(dataset.iloc[:,0])\n",
        "  y=np.asarray(dataset.iloc[:,1])\n",
        "  y1=np.zeros((len(x),1))\n",
        "  y1=pd.DataFrame(y1)\n",
        "  y1.iloc[:,0]=y\n",
        "  y1=np.asarray(y1)\n",
        "  x1=np.ones((len(x),degree+1))\n",
        "  for i in range(degree+1):\n",
        "    x1[:,i]=x**i\n",
        "  theta = np.dot(np.linalg.pinv(np.dot(x1.T,x1)+0.0*np.identity(x1.shape[1])), np.dot(x1.T,y1))  \n",
        "  #theta=normalequation(x1,y1)\n",
        "  hypo=theta[0]\n",
        "  for j in range(1,degree+1):\n",
        "    hypo=hypo+theta[j]*x1[:,j]\n",
        "  #hypo=np.dot(x1,theta)  \n",
        "  y1=y1.reshape(1,len(x))\n",
        "  errormat=hypo-y1\n",
        "  gh=np.array(errormat[0])\n",
        "  gh=gh**2\n",
        "  tota=np.sum(gh)\n",
        "  tota=math.sqrt(tota/len(x)) \n",
        "  return tota,hypo,theta\n",
        "\n",
        "def polyreg1(dataset,degree,theta):\n",
        "  x=np.asarray(dataset.iloc[:,0])\n",
        "  y=np.asarray(dataset.iloc[:,1])\n",
        "  y1=np.zeros((len(x),1))\n",
        "  y1=pd.DataFrame(y1)\n",
        "  y1.iloc[:,0]=y\n",
        "  y1=np.asarray(y1)\n",
        "  x1=np.ones((len(x),degree+1))\n",
        "  for i in range(degree+1):\n",
        "    x1[:,i]=x**i\n",
        "  #theta = np.dot(np.linalg.pinv(np.dot(x1.T,x1)+1*np.identity(x1.shape[1])), np.dot(x1.T,y1))  \n",
        "  #theta=normalequation(x1,y1)\n",
        "  hypo=theta[0]\n",
        "  for j in range(1,degree+1):\n",
        "    hypo=hypo+theta[j]*x1[:,j]\n",
        "  #hypo=np.dot(x1,theta)  \n",
        "  y1=y1.reshape(1,len(x))\n",
        "  errormat=hypo-y1\n",
        "  gh=np.array(errormat[0])\n",
        "  gh=gh**2\n",
        "  tota=np.sum(gh)\n",
        "  tota=math.sqrt(tota/len(x)) \n",
        "  return tota,hypo\n"
      ],
      "execution_count": 0,
      "outputs": []
    },
    {
      "cell_type": "markdown",
      "metadata": {
        "id": "n-MIg02cTdDF",
        "colab_type": "text"
      },
      "source": [
        "**RMSE Generator Function**"
      ]
    },
    {
      "cell_type": "code",
      "metadata": {
        "id": "jxcDDZPaAJQ5",
        "colab_type": "code",
        "outputId": "6fc48401-415e-40a3-968b-4135c930b0b5",
        "colab": {
          "base_uri": "https://localhost:8080/",
          "height": 652
        }
      },
      "source": [
        "def plotandrmsegen(trainset,valset,n): #takes list of dataframes #n:upto which degree\n",
        "  import statistics\n",
        "  averagermse=np.zeros((n,2))\n",
        "  for j in range(n):\n",
        "    trainrms=list()\n",
        "    valrms1=list()\n",
        "    for i in range(5):\n",
        "      curtrainset=trainset[i]\n",
        "      er,hypo,thet=polyreg(curtrainset,j+1)\n",
        "      trainrms.append(er)\n",
        "      curvalset=valset[i]\n",
        "      er1,hypo1=polyreg1(curvalset,j+1,thet)\n",
        "      valrms1.append(er1)\n",
        "    avg=statistics.mean(trainrms)\n",
        "    avg1=statistics.mean(valrms1)  \n",
        "    averagermse[j,0]=avg\n",
        "    averagermse[j,1]=avg1\n",
        "  rmseframe=pd.DataFrame(averagermse)\n",
        "  deg=np.arange(1,n+1)\n",
        "  rmseframe.insert(0, 'degree', deg)\n",
        "  rmseframe.columns = ['degree', 'Mean Training Set RMSE','Mean Validation Set RMSE']\n",
        "  print(rmseframe)\n",
        "  plt.plot(deg,rmseframe.iloc[:,1],'r')\n",
        "  plt.plot(deg,rmseframe.iloc[:,2],'b')\n",
        "  plt.xlabel('Degree')\n",
        "  plt.ylabel('Mean RMSE')\n",
        "  plt.title(\"RMSE vs Polynomial Degree\")\n",
        "\n",
        "#---------------------------------------------------------------------------------  \n",
        "plotandrmsegen(trainset,valset,20)\n",
        "\n"
      ],
      "execution_count": 0,
      "outputs": [
        {
          "output_type": "stream",
          "text": [
            "    degree  Mean Training Set RMSE  Mean Validation Set RMSE\n",
            "0        1                6.478863                  6.725693\n",
            "1        2                5.735693                  6.064319\n",
            "2        3                5.570609                  5.780283\n",
            "3        4                5.450065                  5.670268\n",
            "4        5                6.728691                  7.896612\n",
            "5        6               16.116540                 21.316760\n",
            "6        7               20.497910                 28.740224\n",
            "7        8               22.323800                 35.343915\n",
            "8        9               23.443496                 42.914042\n",
            "9       10               24.136873                 53.091763\n",
            "10      11               24.583342                 67.617101\n",
            "11      12               25.486981                 43.003170\n",
            "12      13               25.556020                 47.289989\n",
            "13      14               25.601315                 52.532208\n",
            "14      15               25.632368                 59.302253\n",
            "15      16               25.654691                 68.292155\n",
            "16      17               25.671487                 80.345840\n",
            "17      18               25.684651                 96.513442\n",
            "18      19               25.695336                118.120912\n",
            "19      20               25.704267                146.854602\n"
          ],
          "name": "stdout"
        },
        {
          "output_type": "display_data",
          "data": {
            "image/png": "[encoded data removed]",
            "text/plain": [
              "<Figure size 432x288 with 1 Axes>"
            ]
          },
          "metadata": {
            "tags": []
          }
        }
      ]
    },
    {
      "cell_type": "markdown",
      "metadata": {
        "id": "y5IiDofHVLXD",
        "colab_type": "text"
      },
      "source": [
        "**RMSE Calculator for Training and Test set for optimal Degree polynomial Regression**"
      ]
    },
    {
      "cell_type": "code",
      "metadata": {
        "id": "r44S7bzSYdII",
        "colab_type": "code",
        "outputId": "cb2435cc-06c1-4e8a-c581-1470653509b1",
        "colab": {
          "base_uri": "https://localhost:8080/",
          "height": 85
        }
      },
      "source": [
        "#Degree with least RMSE=4\n",
        "mindeg=4\n",
        "trainingrmse,hhs,l=polyreg(tr2,mindeg)\n",
        "testrmse,hjh=polyreg1(tr3,mindeg,l)\n",
        "print(\"RMSE of Training set is:\")\n",
        "print(trainingrmse)\n",
        "print(\"RMSE of Test set is:\")\n",
        "print(testrmse)"
      ],
      "execution_count": 0,
      "outputs": [
        {
          "output_type": "stream",
          "text": [
            "RMSE of Training set is:\n",
            "5.494182805266665\n",
            "RMSE of Test set is:\n",
            "4.323676090106278\n"
          ],
          "name": "stdout"
        }
      ]
    },
    {
      "cell_type": "markdown",
      "metadata": {
        "id": "1FXPFIJHVh8m",
        "colab_type": "text"
      },
      "source": [
        "**RMSE for Second Dataset**"
      ]
    },
    {
      "cell_type": "code",
      "metadata": {
        "id": "S3M5vFetcT77",
        "colab_type": "code",
        "outputId": "c24116d7-f0f0-4f31-aa08-3948d9ad6449",
        "colab": {
          "base_uri": "https://localhost:8080/",
          "height": 567
        }
      },
      "source": [
        "df = pd.read_csv('/content/drive/My Drive/data.csv')\n",
        "traindata,valdata=kfoldgen(df,5)\n",
        "plotandrmsegen(traindata,valdata,15)"
      ],
      "execution_count": 0,
      "outputs": [
        {
          "output_type": "stream",
          "text": [
            "    degree  Mean Training Set RMSE  Mean Validation Set RMSE\n",
            "0        1                0.817672                  0.817087\n",
            "1        2                0.816699                  0.819009\n",
            "2        3                0.792884                  0.803258\n",
            "3        4                0.790138                  0.804955\n",
            "4        5                0.569111                  0.596107\n",
            "5        6                0.567656                  0.604599\n",
            "6        7                0.396859                  0.420107\n",
            "7        8                0.395480                  0.421201\n",
            "8        9                0.388460                  0.418638\n",
            "9       10                0.387610                  0.425961\n",
            "10      11                0.463349                  0.492732\n",
            "11      12                0.616052                  0.651457\n",
            "12      13                0.598187                  0.612923\n",
            "13      14                0.598712                  0.612944\n",
            "14      15                0.606437                  0.624364\n"
          ],
          "name": "stdout"
        },
        {
          "output_type": "display_data",
          "data": {
            "image/png": "[encoded data removed]",
            "text/plain": [
              "<Figure size 432x288 with 1 Axes>"
            ]
          },
          "metadata": {
            "tags": []
          }
        }
      ]
    },
    {
      "cell_type": "markdown",
      "metadata": {
        "id": "7_8tIr3SZzGD",
        "colab_type": "text"
      },
      "source": [
        "**Print all the k-fold sets**"
      ]
    },
    {
      "cell_type": "code",
      "metadata": {
        "id": "G2gf2qEEZwEW",
        "colab_type": "code",
        "colab": {}
      },
      "source": [
        "for i in range(5):\n",
        "    print(\"Test set is:\")\n",
        "    print(pd.DataFrame(valdata[i]))\n",
        "    print(\"Train set is:\")\n",
        "    print(pd.DataFrame(traindata[i]))"
      ],
      "execution_count": 0,
      "outputs": []
    },
    {
      "cell_type": "code",
      "metadata": {
        "id": "-vqaIhYkc7fr",
        "colab_type": "code",
        "outputId": "1e013203-0e22-474b-c109-3dc043c647bc",
        "colab": {
          "base_uri": "https://localhost:8080/",
          "height": 265
        }
      },
      "source": [
        "def regressionlinegen(trainset,degree,testset):\n",
        "  error,hypo,theta=polyreg(trainset,degree)\n",
        "  error1,hypo1=polyreg1(testset,degree,theta)\n",
        "  plt.plot(testset.iloc[:,0],hypo1,'r')\n",
        "  plt.scatter(testset.iloc[:,0],testset.iloc[:,1])\n",
        "#regressionlinegen(tr2,30,tr3)\n",
        "\n",
        "def regressionlinegen1(dset,degree):\n",
        "  error,hypo,theta=polyreg(dset,degree)\n",
        "  plt.plot(dset.iloc[:,0],hypo,'r')\n",
        "  plt.scatter(dset.iloc[:,0],dset.iloc[:,1])\n",
        "regressionlinegen1(df,10)"
      ],
      "execution_count": 0,
      "outputs": [
        {
          "output_type": "display_data",
          "data": {
            "image/png": "[encoded data removed]",
            "text/plain": [
              "<Figure size 432x288 with 1 Axes>"
            ]
          },
          "metadata": {
            "tags": []
          }
        }
      ]
    },
    {
      "cell_type": "code",
      "metadata": {
        "id": "hOj1VSOqCZCZ",
        "colab_type": "code",
        "colab": {}
      },
      "source": [
        ""
      ],
      "execution_count": 0,
      "outputs": []
    }
  ]
}